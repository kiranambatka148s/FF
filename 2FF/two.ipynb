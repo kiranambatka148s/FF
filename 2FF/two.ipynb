{
 "cells": [
  {
   "cell_type": "raw",
   "id": "cd573002",
   "metadata": {},
   "source": [
    "# 2 . Feedforward neural networks"
   ]
  },
  {
   "cell_type": "code",
   "execution_count": null,
   "id": "efe3b27e",
   "metadata": {},
   "outputs": [],
   "source": [
    "#Import Packages\n",
    "import tensorflow as tf\n",
    "from tensorflow import keras\n",
    "import matplotlib.pyplot as plt\n",
    "import random\n",
    "\n",
    "#load the data #len shape array feature scaling array\n",
    "mnist=tf.keras.datasets.mnist\n",
    "(x_train, y_train),(x_test, y_test) = mnist.load_data()\n",
    "print(len(x_train))\n",
    "print(len(x_test))\n",
    "print(x_train.shape)\n",
    "print(x_test.shape)\n",
    "print(x_train[0])\n",
    "plt.matshow(x_train[0])\n",
    "\n",
    "#Feature Scaling\n",
    "x_train=x_train/255\n",
    "x_test=x_test/255 \n",
    "print(x_train[0])\n",
    "\n",
    "#defining network architecture using keras\n",
    "model=tf.keras.Sequential([\n",
    "    keras.layers.Flatten(input_shape=(28,28)),\n",
    "    keras.layers.Dense(128,activation='relu'),\n",
    "    keras.layers.Dense(10,activation='softmax')\n",
    "])\n",
    "model.summary()\n",
    "\n",
    "#train the model using sgd\n",
    "model.compile(optimizer='sgd', loss='sparse_categorical_crossentropy',metrics=['accuracy'])\n",
    "history=model.fit(x_train, y_train, validation_data= (x_test,y_test),epochs=6 , verbose=2)\n",
    "\n",
    "#evaluate the network\n",
    "test_loss,test_acc=model.evaluate(x_test,y_test)\n",
    "print(\"Loss=\",test_loss)\n",
    "print(\"Accuracy=\",test_acc)\n",
    "n=random.randint(0,9999)\n",
    "plt.imshow(x_test[n])\n",
    "\n",
    "#plot the training loss and accuracy\n",
    "plt.plot(history.history['accuracy'])\n",
    "plt.plot(history.history['loss'])\n",
    "plt.title('Training Loss and Accuracy')\n",
    "plt.xlabel(\"epochs\")\n",
    "plt.legend([\"Accuracy\",\"Training Loss\"],loc= 'lowerleft')\n"
   ]
  }
 ],
 "metadata": {
  "kernelspec": {
   "display_name": "Python 3 (ipykernel)",
   "language": "python",
   "name": "python3"
  },
  "language_info": {
   "codemirror_mode": {
    "name": "ipython",
    "version": 3
   },
   "file_extension": ".py",
   "mimetype": "text/x-python",
   "name": "python",
   "nbconvert_exporter": "python",
   "pygments_lexer": "ipython3",
   "version": "3.9.13"
  }
 },
 "nbformat": 4,
 "nbformat_minor": 5
}
